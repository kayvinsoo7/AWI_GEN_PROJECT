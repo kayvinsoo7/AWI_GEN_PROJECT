{
 "cells": [
  {
   "cell_type": "code",
   "execution_count": 1,
   "metadata": {},
   "outputs": [],
   "source": [
    "import pandas as pd\n",
    "# pd.set_option(\"display.float_format\", \"{:.3f}\".format)\n",
    "import numpy as np\n",
    "import matplotlib.pyplot as plt\n",
    "from sklearn.model_selection import train_test_split\n",
    "from sklearn.preprocessing import StandardScaler\n",
    "from sklearn.pipeline import Pipeline\n",
    "from sklearn.utils import Bunch\n",
    "from sklearn.metrics import (\n",
    "    balanced_accuracy_score,\n",
    "    roc_auc_score,\n",
    "    accuracy_score,\n",
    "    recall_score,\n",
    "    confusion_matrix,\n",
    "    roc_auc_score,\n",
    "    roc_curve,\n",
    "    RocCurveDisplay)\n",
    "from sklearn.metrics import classification_report\n",
    "from sklearn.utils import class_weight\n",
    "from sklearn.linear_model import LogisticRegression\n",
    "import xgboost as xgb\n",
    "from sklearn.ensemble import RandomForestClassifier\n",
    "from sklearn.ensemble import GradientBoostingClassifier\n",
    "import shap\n",
    "import seaborn as sns\n",
    "from IPython.display import display, Markdown, Latex\n",
    "import random\n",
    "random.seed(42)\n",
    "import os\n",
    " \n",
    "def seed_everything(seed: int = 42):\n",
    "    random.seed(seed)\n",
    "    np.random.seed(seed)\n",
    "    os.environ[\"PYTHONHASHSEED\"] = str(seed)\n",
    "    random.set_seed(seed)\n",
    "    random.seed"
   ]
  },
  {
   "cell_type": "code",
   "execution_count": 2,
   "metadata": {},
   "outputs": [],
   "source": [
    "dff = pd.read_csv('/Users/kayadetunji/Documents/AWI_GEN_PROJECT/cvd_data_awigenv1.csv').drop(columns = \n",
    "       ['Unnamed: 0', 'study_id', 'chf_meds_qc','angina_meds_qc', 'pain_action_stop_or_slow_qc', 'pain_action_rest_qc',\n",
    "       'pain_action_medicine_qc', 'pain_action_carry_on_qc',\n",
    "       'relief_standstill_qc', 'relief_standstill_qc.1', 'pain_location_1_qc',\n",
    "       'pain_location_2_qc', 'pain_location_3_qc', 'pain_location_4_qc',\n",
    "       'pain_location_5_qc', 'pain_location_6_qc', 'pain_location_7_qc',\n",
    "       'pain_location_8_qc', 'pain_location_9_qc', 'pain_location_10_qc',\n",
    "       'pain_location_11_qc', 'pain_location_12_qc', 'pain_location_13_qc',\n",
    "       'pain_location_14_qc', 'pain_location_15_qc', 'pain_location_16_qc',\n",
    "       'pain_location_17_qc', 'pain_location_18_qc','angina_treat_now_qc', 'angina_traditional_qc', 'pain_qc', 'pain2_qc'])"
   ]
  },
  {
   "cell_type": "markdown",
   "metadata": {},
   "source": [
    "#### Slice out urban sites: Nairobi and Soweto"
   ]
  },
  {
   "cell_type": "code",
   "execution_count": 5,
   "metadata": {},
   "outputs": [],
   "source": [
    "site_id = 3 # Nairobi\n",
    "Nairobi_dff = dff[(dff['site'] == site_id) & (dff['age'] <= 60) & (dff['age'] >= 40)].copy()\n",
    "\n",
    "site_id = 6 # Soweto\n",
    "Soweto_dff = dff[(dff['site'] == site_id) & (dff['age'] <= 60) & (dff['age'] >= 40)].copy()"
   ]
  },
  {
   "cell_type": "code",
   "execution_count": null,
   "metadata": {},
   "outputs": [],
   "source": []
  },
  {
   "cell_type": "code",
   "execution_count": null,
   "metadata": {},
   "outputs": [],
   "source": []
  }
 ],
 "metadata": {
  "kernelspec": {
   "display_name": "kaymacmini",
   "language": "python",
   "name": "python3"
  },
  "language_info": {
   "codemirror_mode": {
    "name": "ipython",
    "version": 3
   },
   "file_extension": ".py",
   "mimetype": "text/x-python",
   "name": "python",
   "nbconvert_exporter": "python",
   "pygments_lexer": "ipython3",
   "version": "3.9.16"
  }
 },
 "nbformat": 4,
 "nbformat_minor": 2
}
