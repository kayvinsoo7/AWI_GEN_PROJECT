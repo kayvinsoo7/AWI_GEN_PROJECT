{
 "cells": [
  {
   "cell_type": "code",
   "execution_count": 3,
   "metadata": {},
   "outputs": [
    {
     "name": "stdout",
     "output_type": "stream",
     "text": [
      "<class 'pandas.core.frame.DataFrame'>\n",
      "Int64Index: 5059 entries, 0 to 5058\n",
      "Columns: 1933 entries, prim_key to sn008_7\n",
      "dtypes: category(1176), datetime64[ns](1), float32(4), float64(621), int16(2), int8(14), object(115)\n",
      "memory usage: 34.5+ MB\n"
     ]
    }
   ],
   "source": [
    "\n",
    "import pandas as pd\n",
    "dtafile = '/Users/kayadetunji/Downloads/AWI_GEN_PROJECT/HAALSI_baseline_dataverse_14Apr2017.dta'\n",
    "df = pd.read_stata(dtafile)\n",
    "df.info()"
   ]
  },
  {
   "cell_type": "code",
   "execution_count": 6,
   "metadata": {},
   "outputs": [
    {
     "data": {
      "text/plain": [
       "Index(['prim_key', 'hhmemberage_37_', 'hhmemberage_38_', 'hhmemberage_39_',\n",
       "       'hhmemberage_3_', 'hhmemberage_36_', 'hhmemberage_35_',\n",
       "       'hhmemberage_31_', 'hhmemberage_32_', 'hhmemberage_33_',\n",
       "       ...\n",
       "       'bs049s1', 'bs049s2', 'bs049s3', 'bs049s4', 'bs049s5', 'bs049s6',\n",
       "       'bs049s7', 'bs049', 'c_cd_cesd', 'sn008_7'],\n",
       "      dtype='object', length=1933)"
      ]
     },
     "execution_count": 6,
     "metadata": {},
     "output_type": "execute_result"
    }
   ],
   "source": [
    "df.columns"
   ]
  },
  {
   "cell_type": "code",
   "execution_count": 7,
   "metadata": {},
   "outputs": [
    {
     "data": {
      "text/plain": [
       "(5059, 1933)"
      ]
     },
     "execution_count": 7,
     "metadata": {},
     "output_type": "execute_result"
    }
   ],
   "source": [
    "df.shape"
   ]
  },
  {
   "cell_type": "code",
   "execution_count": 10,
   "metadata": {},
   "outputs": [],
   "source": [
    "df.to_csv('file1.csv')"
   ]
  },
  {
   "cell_type": "code",
   "execution_count": null,
   "metadata": {},
   "outputs": [],
   "source": []
  }
 ],
 "metadata": {
  "kernelspec": {
   "display_name": "kay",
   "language": "python",
   "name": "python3"
  },
  "language_info": {
   "codemirror_mode": {
    "name": "ipython",
    "version": 3
   },
   "file_extension": ".py",
   "mimetype": "text/x-python",
   "name": "python",
   "nbconvert_exporter": "python",
   "pygments_lexer": "ipython3",
   "version": "3.9.16"
  },
  "orig_nbformat": 4
 },
 "nbformat": 4,
 "nbformat_minor": 2
}
